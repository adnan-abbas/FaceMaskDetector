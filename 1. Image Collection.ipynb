{
 "cells": [
  {
   "cell_type": "markdown",
   "metadata": {},
   "source": [
    "# 1. Import Dependencies"
   ]
  },
  {
   "cell_type": "code",
   "execution_count": 1,
   "metadata": {},
   "outputs": [
    {
     "name": "stdout",
     "output_type": "stream",
     "text": [
      "Collecting opencv-python\n",
      "  Using cached opencv_python-4.6.0.66-cp36-abi3-macosx_10_15_x86_64.whl (46.4 MB)\n",
      "Collecting numpy>=1.14.5\n",
      "  Using cached numpy-1.23.2-cp38-cp38-macosx_10_9_x86_64.whl (18.1 MB)\n",
      "Installing collected packages: numpy, opencv-python\n",
      "Successfully installed numpy-1.23.2 opencv-python-4.6.0.66\n"
     ]
    }
   ],
   "source": [
    "!pip3 install opencv-python"
   ]
  },
  {
   "cell_type": "code",
   "execution_count": 2,
   "metadata": {},
   "outputs": [],
   "source": [
    "# Import opencv\n",
    "import cv2 \n",
    "\n",
    "# Import uuid\n",
    "import uuid\n",
    "\n",
    "# Import Operating System\n",
    "import os\n",
    "\n",
    "# Import time\n",
    "import time"
   ]
  },
  {
   "cell_type": "markdown",
   "metadata": {},
   "source": [
    "# 2. Define Images to Collect"
   ]
  },
  {
   "cell_type": "code",
   "execution_count": 6,
   "metadata": {},
   "outputs": [
    {
     "data": {
      "text/plain": [
       "'posix'"
      ]
     },
     "execution_count": 6,
     "metadata": {},
     "output_type": "execute_result"
    }
   ],
   "source": [
    "os.name"
   ]
  },
  {
   "cell_type": "code",
   "execution_count": 3,
   "metadata": {},
   "outputs": [],
   "source": [
    "labels = ['mask', 'no-mask']\n",
    "number_imgs = 2"
   ]
  },
  {
   "cell_type": "markdown",
   "metadata": {},
   "source": [
    "# 3. Setup Folders "
   ]
  },
  {
   "cell_type": "code",
   "execution_count": 4,
   "metadata": {},
   "outputs": [],
   "source": [
    "IMAGES_PATH = os.path.join('Tensorflow', 'workspace', 'images', 'collectedimages')"
   ]
  },
  {
   "cell_type": "code",
   "execution_count": 5,
   "metadata": {},
   "outputs": [],
   "source": [
    "if not os.path.exists(IMAGES_PATH):\n",
    "    if os.name == 'posix':\n",
    "        !mkdir -p {IMAGES_PATH}\n",
    "    if os.name == 'nt':\n",
    "         !mkdir {IMAGES_PATH}\n",
    "for label in labels:\n",
    "    path = os.path.join(IMAGES_PATH, label)\n",
    "    if not os.path.exists(path):\n",
    "        !mkdir {path}"
   ]
  },
  {
   "cell_type": "markdown",
   "metadata": {},
   "source": [
    "# 4. Capture Images"
   ]
  },
  {
   "cell_type": "code",
   "execution_count": 18,
   "metadata": {},
   "outputs": [
    {
     "name": "stdout",
     "output_type": "stream",
     "text": [
      "Collecting images for thumbsup\n",
      "Collecting image 0\n",
      "Collecting image 1\n",
      "Collecting image 2\n",
      "Collecting image 3\n",
      "Collecting image 4\n"
     ]
    }
   ],
   "source": [
    "for label in labels:\n",
    "    cap = cv2.VideoCapture(0)\n",
    "    print('Collecting images for {}'.format(label))\n",
    "    time.sleep(5)\n",
    "    for imgnum in range(number_imgs):\n",
    "        print('Collecting image {}'.format(imgnum))\n",
    "        ret, frame = cap.read()\n",
    "        imgname = os.path.join(IMAGES_PATH,label,label+'.'+'{}.jpg'.format(str(uuid.uuid1())))\n",
    "        cv2.imwrite(imgname, frame)\n",
    "        cv2.imshow('frame', frame)\n",
    "        time.sleep(2)\n",
    "\n",
    "        if cv2.waitKey(1) & 0xFF == ord('q'):\n",
    "            break\n",
    "cap.release()\n",
    "cv2.destroyAllWindows()"
   ]
  },
  {
   "cell_type": "markdown",
   "metadata": {},
   "source": [
    "# 5. Image Labelling"
   ]
  },
  {
   "cell_type": "code",
   "execution_count": 7,
   "metadata": {},
   "outputs": [
    {
     "name": "stdout",
     "output_type": "stream",
     "text": [
      "Collecting pyqt5\n",
      "  Downloading PyQt5-5.15.7-cp37-abi3-macosx_10_13_x86_64.whl (7.0 MB)\n",
      "\u001b[2K     \u001b[90m━━━━━━━━━━━━━━━━━━━━━━━━━━━━━━━━━━━━━━━━\u001b[0m \u001b[32m7.0/7.0 MB\u001b[0m \u001b[31m8.4 MB/s\u001b[0m eta \u001b[36m0:00:00\u001b[0m00:01\u001b[0m00:01\u001b[0mm\n",
      "\u001b[?25hCollecting lxml\n",
      "  Using cached lxml-4.9.1-cp38-cp38-macosx_10_15_x86_64.whl (4.6 MB)\n",
      "Collecting PyQt5-sip<13,>=12.11\n",
      "  Downloading PyQt5_sip-12.11.0-cp38-cp38-macosx_10_9_x86_64.whl (84 kB)\n",
      "\u001b[2K     \u001b[90m━━━━━━━━━━━━━━━━━━━━━━━━━━━━━━━━━━━━━━━━\u001b[0m \u001b[32m84.8/84.8 kB\u001b[0m \u001b[31m3.0 MB/s\u001b[0m eta \u001b[36m0:00:00\u001b[0m\n",
      "\u001b[?25hCollecting PyQt5-Qt5>=5.15.0\n",
      "  Downloading PyQt5_Qt5-5.15.2-py3-none-macosx_10_13_intel.whl (40.5 MB)\n",
      "\u001b[2K     \u001b[90m━━━━━━━━━━━━━━━━━━━━━━━━━━━━━━━━━━━━━━━━\u001b[0m \u001b[32m40.5/40.5 MB\u001b[0m \u001b[31m5.5 MB/s\u001b[0m eta \u001b[36m0:00:00\u001b[0m00:01\u001b[0m00:01\u001b[0mm\n",
      "\u001b[?25hInstalling collected packages: PyQt5-Qt5, PyQt5-sip, lxml, pyqt5\n",
      "Successfully installed PyQt5-Qt5-5.15.2 PyQt5-sip-12.11.0 lxml-4.9.1 pyqt5-5.15.7\n"
     ]
    }
   ],
   "source": [
    "!pip3 install --upgrade pyqt5 lxml"
   ]
  },
  {
   "cell_type": "code",
   "execution_count": 8,
   "metadata": {},
   "outputs": [],
   "source": [
    "LABELIMG_PATH = os.path.join('Tensorflow', 'labelimg')"
   ]
  },
  {
   "cell_type": "code",
   "execution_count": 9,
   "metadata": {},
   "outputs": [
    {
     "name": "stdout",
     "output_type": "stream",
     "text": [
      "Cloning into 'Tensorflow/labelimg'...\n",
      "remote: Enumerating objects: 2090, done.\u001b[K\n",
      "remote: Counting objects: 100% (104/104), done.\u001b[K\n",
      "remote: Compressing objects: 100% (67/67), done.\u001b[K\n",
      "remote: Total 2090 (delta 43), reused 78 (delta 34), pack-reused 1986\u001b[K\n",
      "Receiving objects: 100% (2090/2090), 232.91 MiB | 3.69 MiB/s, done.\n",
      "Resolving deltas: 100% (1229/1229), done.\n"
     ]
    }
   ],
   "source": [
    "if not os.path.exists(LABELIMG_PATH):\n",
    "    !mkdir {LABELIMG_PATH}\n",
    "    !git clone https://github.com/tzutalin/labelImg {LABELIMG_PATH}"
   ]
  },
  {
   "cell_type": "code",
   "execution_count": 10,
   "metadata": {},
   "outputs": [
    {
     "name": "stdout",
     "output_type": "stream",
     "text": [
      "pyrcc5 -o libs/resources.py resources.qrc\r\n"
     ]
    }
   ],
   "source": [
    "if os.name == 'posix':\n",
    "    !cd {LABELIMG_PATH} && make qt5py3\n",
    "if os.name =='nt':\n",
    "    !cd {LABELIMG_PATH} && pyrcc5 -o libs/resources.py resources.qrc"
   ]
  },
  {
   "cell_type": "code",
   "execution_count": 11,
   "metadata": {},
   "outputs": [
    {
     "name": "stdout",
     "output_type": "stream",
     "text": [
      "Cancel creation.\n",
      "Image:/Users/Adnan/Desktop/TFODCourse/Tensorflow/workspace/images/collectedimages/mask/openCV_15babb8a-1d33-11ed-826e-acde48001122.jpg -> Annotation:/Users/Adnan/Desktop/TFODCourse/Tensorflow/workspace/images/collectedimages/mask/openCV_15babb8a-1d33-11ed-826e-acde48001122.xml\n",
      "Cancel creation.\n",
      "Image:/Users/Adnan/Desktop/TFODCourse/Tensorflow/workspace/images/collectedimages/mask/openCV_15f3045e-1d33-11ed-826e-acde48001122.jpg -> Annotation:/Users/Adnan/Desktop/TFODCourse/Tensorflow/workspace/images/collectedimages/mask/openCV_15f3045e-1d33-11ed-826e-acde48001122.xml\n",
      "Cancel creation.\n",
      "Image:/Users/Adnan/Desktop/TFODCourse/Tensorflow/workspace/images/collectedimages/mask/openCV_16a4d1fc-1d33-11ed-826e-acde48001122.jpg -> Annotation:/Users/Adnan/Desktop/TFODCourse/Tensorflow/workspace/images/collectedimages/mask/openCV_16a4d1fc-1d33-11ed-826e-acde48001122.xml\n",
      "Cancel creation.\n",
      "Image:/Users/Adnan/Desktop/TFODCourse/Tensorflow/workspace/images/collectedimages/mask/openCV_16be7864-1d33-11ed-826e-acde48001122.jpg -> Annotation:/Users/Adnan/Desktop/TFODCourse/Tensorflow/workspace/images/collectedimages/mask/openCV_16be7864-1d33-11ed-826e-acde48001122.xml\n",
      "Cancel creation.\n",
      "Image:/Users/Adnan/Desktop/TFODCourse/Tensorflow/workspace/images/collectedimages/mask/openCV_16d2b6b2-1d33-11ed-826e-acde48001122.jpg -> Annotation:/Users/Adnan/Desktop/TFODCourse/Tensorflow/workspace/images/collectedimages/mask/openCV_16d2b6b2-1d33-11ed-826e-acde48001122.xml\n",
      "Cancel creation.\n",
      "Image:/Users/Adnan/Desktop/TFODCourse/Tensorflow/workspace/images/collectedimages/mask/openCV_16eb29ea-1d33-11ed-826e-acde48001122.jpg -> Annotation:/Users/Adnan/Desktop/TFODCourse/Tensorflow/workspace/images/collectedimages/mask/openCV_16eb29ea-1d33-11ed-826e-acde48001122.xml\n",
      "Cancel creation.\n",
      "Image:/Users/Adnan/Desktop/TFODCourse/Tensorflow/workspace/images/collectedimages/mask/openCV_17b20a6a-1d33-11ed-826e-acde48001122.jpg -> Annotation:/Users/Adnan/Desktop/TFODCourse/Tensorflow/workspace/images/collectedimages/mask/openCV_17b20a6a-1d33-11ed-826e-acde48001122.xml\n",
      "Cancel creation.\n",
      "Image:/Users/Adnan/Desktop/TFODCourse/Tensorflow/workspace/images/collectedimages/mask/openCV_17cb1c6c-1d33-11ed-826e-acde48001122.jpg -> Annotation:/Users/Adnan/Desktop/TFODCourse/Tensorflow/workspace/images/collectedimages/mask/openCV_17cb1c6c-1d33-11ed-826e-acde48001122.xml\n",
      "Cancel creation.\n",
      "Image:/Users/Adnan/Desktop/TFODCourse/Tensorflow/workspace/images/collectedimages/mask/openCV_17e55532-1d33-11ed-826e-acde48001122.jpg -> Annotation:/Users/Adnan/Desktop/TFODCourse/Tensorflow/workspace/images/collectedimages/mask/openCV_17e55532-1d33-11ed-826e-acde48001122.xml\n",
      "Cancel creation.\n",
      "Image:/Users/Adnan/Desktop/TFODCourse/Tensorflow/workspace/images/collectedimages/mask/openCV_18bee36a-1d33-11ed-826e-acde48001122.jpg -> Annotation:/Users/Adnan/Desktop/TFODCourse/Tensorflow/workspace/images/collectedimages/mask/openCV_18bee36a-1d33-11ed-826e-acde48001122.xml\n",
      "Cancel creation.\n",
      "Image:/Users/Adnan/Desktop/TFODCourse/Tensorflow/workspace/images/collectedimages/mask/openCV_18e2f7b4-1d33-11ed-826e-acde48001122.jpg -> Annotation:/Users/Adnan/Desktop/TFODCourse/Tensorflow/workspace/images/collectedimages/mask/openCV_18e2f7b4-1d33-11ed-826e-acde48001122.xml\n",
      "Cancel creation.\n",
      "Cancel creation.\n",
      "Image:/Users/Adnan/Desktop/TFODCourse/Tensorflow/workspace/images/collectedimages/mask/openCV_165d2db6-1d33-11ed-826e-acde48001122.jpg -> Annotation:/Users/Adnan/Desktop/TFODCourse/Tensorflow/workspace/images/collectedimages/mask/openCV_165d2db6-1d33-11ed-826e-acde48001122.xml\n",
      "Cancel creation.\n",
      "Image:/Users/Adnan/Desktop/TFODCourse/Tensorflow/workspace/images/collectedimages/mask/openCV_168f65ba-1d33-11ed-826e-acde48001122.jpg -> Annotation:/Users/Adnan/Desktop/TFODCourse/Tensorflow/workspace/images/collectedimages/mask/openCV_168f65ba-1d33-11ed-826e-acde48001122.xml\n",
      "Image:/Users/Adnan/Desktop/TFODCourse/Tensorflow/workspace/images/collectedimages/mask/openCV_173d829e-1d33-11ed-826e-acde48001122.jpg -> Annotation:/Users/Adnan/Desktop/TFODCourse/Tensorflow/workspace/images/collectedimages/mask/openCV_173d829e-1d33-11ed-826e-acde48001122.xml\n",
      "Cancel creation.\n",
      "Image:/Users/Adnan/Desktop/TFODCourse/Tensorflow/workspace/images/collectedimages/mask/openCV_181c9d08-1d33-11ed-826e-acde48001122.jpg -> Annotation:/Users/Adnan/Desktop/TFODCourse/Tensorflow/workspace/images/collectedimages/mask/openCV_181c9d08-1d33-11ed-826e-acde48001122.xml\n",
      "Image:/Users/Adnan/Desktop/TFODCourse/Tensorflow/workspace/images/collectedimages/mask/openCV_183a6b62-1d33-11ed-826e-acde48001122.jpg -> Annotation:/Users/Adnan/Desktop/TFODCourse/Tensorflow/workspace/images/collectedimages/mask/openCV_183a6b62-1d33-11ed-826e-acde48001122.xml\n",
      "Cancel creation.\n",
      "Image:/Users/Adnan/Desktop/TFODCourse/Tensorflow/workspace/images/collectedimages/mask/openCV_188d2460-1d33-11ed-826e-acde48001122.jpg -> Annotation:/Users/Adnan/Desktop/TFODCourse/Tensorflow/workspace/images/collectedimages/mask/openCV_188d2460-1d33-11ed-826e-acde48001122.xml\n",
      "Image:/Users/Adnan/Desktop/TFODCourse/Tensorflow/workspace/images/collectedimages/mask/openCV_1578dd50-1d33-11ed-826e-acde48001122.jpg -> Annotation:/Users/Adnan/Desktop/TFODCourse/Tensorflow/workspace/images/collectedimages/mask/openCV_1578dd50-1d33-11ed-826e-acde48001122.xml\n",
      "Cancel creation.\n",
      "Image:/Users/Adnan/Desktop/TFODCourse/Tensorflow/workspace/images/collectedimages/mask/openCV_1625c934-1d33-11ed-826e-acde48001122.jpg -> Annotation:/Users/Adnan/Desktop/TFODCourse/Tensorflow/workspace/images/collectedimages/mask/openCV_1625c934-1d33-11ed-826e-acde48001122.xml\n",
      "Cancel creation.\n",
      "Image:/Users/Adnan/Desktop/TFODCourse/Tensorflow/workspace/images/collectedimages/mask/openCV_1798eb48-1d33-11ed-826e-acde48001122.jpg -> Annotation:/Users/Adnan/Desktop/TFODCourse/Tensorflow/workspace/images/collectedimages/mask/openCV_1798eb48-1d33-11ed-826e-acde48001122.xml\n",
      "Image:/Users/Adnan/Desktop/TFODCourse/Tensorflow/workspace/images/collectedimages/mask/openCV_1901ec00-1d33-11ed-826e-acde48001122.jpg -> Annotation:/Users/Adnan/Desktop/TFODCourse/Tensorflow/workspace/images/collectedimages/mask/openCV_1901ec00-1d33-11ed-826e-acde48001122.xml\n",
      "Cancel creation.\n",
      "Image:/Users/Adnan/Desktop/TFODCourse/Tensorflow/workspace/images/collectedimages/mask/openCV_1924a4b6-1d33-11ed-826e-acde48001122.jpg -> Annotation:/Users/Adnan/Desktop/TFODCourse/Tensorflow/workspace/images/collectedimages/mask/openCV_1924a4b6-1d33-11ed-826e-acde48001122.xml\n",
      "Cancel creation.\n",
      "Image:/Users/Adnan/Desktop/TFODCourse/Tensorflow/workspace/images/collectedimages/mask/openCV_16448eaa-1d33-11ed-826e-acde48001122.jpg -> Annotation:/Users/Adnan/Desktop/TFODCourse/Tensorflow/workspace/images/collectedimages/mask/openCV_16448eaa-1d33-11ed-826e-acde48001122.xml\n",
      "Cancel creation.\n",
      "Image:/Users/Adnan/Desktop/TFODCourse/Tensorflow/workspace/images/collectedimages/mask/openCV_17238ad8-1d33-11ed-826e-acde48001122.jpg -> Annotation:/Users/Adnan/Desktop/TFODCourse/Tensorflow/workspace/images/collectedimages/mask/openCV_17238ad8-1d33-11ed-826e-acde48001122.xml\n",
      "Image:/Users/Adnan/Desktop/TFODCourse/Tensorflow/workspace/images/collectedimages/mask/openCV_17660b7e-1d33-11ed-826e-acde48001122.jpg -> Annotation:/Users/Adnan/Desktop/TFODCourse/Tensorflow/workspace/images/collectedimages/mask/openCV_17660b7e-1d33-11ed-826e-acde48001122.xml\n",
      "Cancel creation.\n",
      "Image:/Users/Adnan/Desktop/TFODCourse/Tensorflow/workspace/images/collectedimages/mask/openCV_170508ec-1d33-11ed-826e-acde48001122.jpg -> Annotation:/Users/Adnan/Desktop/TFODCourse/Tensorflow/workspace/images/collectedimages/mask/openCV_170508ec-1d33-11ed-826e-acde48001122.xml\n",
      "Cancel creation.\n",
      "Cancel creation.\n",
      "Image:/Users/Adnan/Desktop/TFODCourse/Tensorflow/workspace/images/collectedimages/mask/openCV_175106e8-1d33-11ed-826e-acde48001122.jpg -> Annotation:/Users/Adnan/Desktop/TFODCourse/Tensorflow/workspace/images/collectedimages/mask/openCV_175106e8-1d33-11ed-826e-acde48001122.xml\n",
      "Image:/Users/Adnan/Desktop/TFODCourse/Tensorflow/workspace/images/collectedimages/mask/openCV_178499c2-1d33-11ed-826e-acde48001122.jpg -> Annotation:/Users/Adnan/Desktop/TFODCourse/Tensorflow/workspace/images/collectedimages/mask/openCV_178499c2-1d33-11ed-826e-acde48001122.xml\n",
      "Image:/Users/Adnan/Desktop/TFODCourse/Tensorflow/workspace/images/collectedimages/mask/openCV_180350be-1d33-11ed-826e-acde48001122.jpg -> Annotation:/Users/Adnan/Desktop/TFODCourse/Tensorflow/workspace/images/collectedimages/mask/openCV_180350be-1d33-11ed-826e-acde48001122.xml\n"
     ]
    },
    {
     "name": "stdout",
     "output_type": "stream",
     "text": [
      "Image:/Users/Adnan/Desktop/TFODCourse/Tensorflow/workspace/images/collectedimages/mask/openCV_185922be-1d33-11ed-826e-acde48001122.jpg -> Annotation:/Users/Adnan/Desktop/TFODCourse/Tensorflow/workspace/images/collectedimages/mask/openCV_185922be-1d33-11ed-826e-acde48001122.xml\n",
      "Image:/Users/Adnan/Desktop/TFODCourse/Tensorflow/workspace/images/collectedimages/mask/openCV_1677511e-1d33-11ed-826e-acde48001122.jpg -> Annotation:/Users/Adnan/Desktop/TFODCourse/Tensorflow/workspace/images/collectedimages/mask/openCV_1677511e-1d33-11ed-826e-acde48001122.xml\n",
      "Image:/Users/Adnan/Desktop/TFODCourse/Tensorflow/workspace/images/collectedimages/mask/openCV_15319738-1d33-11ed-826e-acde48001122.jpg -> Annotation:/Users/Adnan/Desktop/TFODCourse/Tensorflow/workspace/images/collectedimages/mask/openCV_15319738-1d33-11ed-826e-acde48001122.xml\n",
      "Image:/Users/Adnan/Desktop/TFODCourse/Tensorflow/workspace/images/collectedimages/mask/openCV_e7f0fafc-1d32-11ed-826e-acde48001122.jpg -> Annotation:/Users/Adnan/Desktop/TFODCourse/Tensorflow/workspace/images/collectedimages/mask/openCV_e7f0fafc-1d32-11ed-826e-acde48001122.xml\n",
      "Cancel creation.\n",
      "Image:/Users/Adnan/Desktop/TFODCourse/Tensorflow/workspace/images/collectedimages/mask/openCV_e8e543a0-1d32-11ed-826e-acde48001122.jpg -> Annotation:/Users/Adnan/Desktop/TFODCourse/Tensorflow/workspace/images/collectedimages/mask/openCV_e8e543a0-1d32-11ed-826e-acde48001122.xml\n",
      "Image:/Users/Adnan/Desktop/TFODCourse/Tensorflow/workspace/images/collectedimages/mask/openCV_e9b169f8-1d32-11ed-826e-acde48001122.jpg -> Annotation:/Users/Adnan/Desktop/TFODCourse/Tensorflow/workspace/images/collectedimages/mask/openCV_e9b169f8-1d32-11ed-826e-acde48001122.xml\n",
      "Image:/Users/Adnan/Desktop/TFODCourse/Tensorflow/workspace/images/collectedimages/mask/openCV_e9eea552-1d32-11ed-826e-acde48001122.jpg -> Annotation:/Users/Adnan/Desktop/TFODCourse/Tensorflow/workspace/images/collectedimages/mask/openCV_e9eea552-1d32-11ed-826e-acde48001122.xml\n",
      "Cancel creation.\n",
      "Image:/Users/Adnan/Desktop/TFODCourse/Tensorflow/workspace/images/collectedimages/mask/openCV_e87b0c9c-1d32-11ed-826e-acde48001122.jpg -> Annotation:/Users/Adnan/Desktop/TFODCourse/Tensorflow/workspace/images/collectedimages/mask/openCV_e87b0c9c-1d32-11ed-826e-acde48001122.xml\n",
      "Image:/Users/Adnan/Desktop/TFODCourse/Tensorflow/workspace/images/collectedimages/mask/openCV_e833e416-1d32-11ed-826e-acde48001122.jpg -> Annotation:/Users/Adnan/Desktop/TFODCourse/Tensorflow/workspace/images/collectedimages/mask/openCV_e833e416-1d32-11ed-826e-acde48001122.xml\n",
      "Image:/Users/Adnan/Desktop/TFODCourse/Tensorflow/workspace/images/collectedimages/mask/openCV_e944ee36-1d32-11ed-826e-acde48001122.jpg -> Annotation:/Users/Adnan/Desktop/TFODCourse/Tensorflow/workspace/images/collectedimages/mask/openCV_e944ee36-1d32-11ed-826e-acde48001122.xml\n",
      "Image:/Users/Adnan/Desktop/TFODCourse/Tensorflow/workspace/images/collectedimages/mask/openCV_ea2b54ac-1d32-11ed-826e-acde48001122.jpg -> Annotation:/Users/Adnan/Desktop/TFODCourse/Tensorflow/workspace/images/collectedimages/mask/openCV_ea2b54ac-1d32-11ed-826e-acde48001122.xml\n",
      "Image:/Users/Adnan/Desktop/TFODCourse/Tensorflow/workspace/images/collectedimages/mask/openCV_ea6823f0-1d32-11ed-826e-acde48001122.jpg -> Annotation:/Users/Adnan/Desktop/TFODCourse/Tensorflow/workspace/images/collectedimages/mask/openCV_ea6823f0-1d32-11ed-826e-acde48001122.xml\n",
      "Image:/Users/Adnan/Desktop/TFODCourse/Tensorflow/workspace/images/collectedimages/mask/openCV_eaa5bbfc-1d32-11ed-826e-acde48001122.jpg -> Annotation:/Users/Adnan/Desktop/TFODCourse/Tensorflow/workspace/images/collectedimages/mask/openCV_eaa5bbfc-1d32-11ed-826e-acde48001122.xml\n",
      "Image:/Users/Adnan/Desktop/TFODCourse/Tensorflow/workspace/images/collectedimages/mask/openCV_eae7aada-1d32-11ed-826e-acde48001122.jpg -> Annotation:/Users/Adnan/Desktop/TFODCourse/Tensorflow/workspace/images/collectedimages/mask/openCV_eae7aada-1d32-11ed-826e-acde48001122.xml\n",
      "Image:/Users/Adnan/Desktop/TFODCourse/Tensorflow/workspace/images/collectedimages/mask/openCV_eb8fcc7e-1d32-11ed-826e-acde48001122.jpg -> Annotation:/Users/Adnan/Desktop/TFODCourse/Tensorflow/workspace/images/collectedimages/mask/openCV_eb8fcc7e-1d32-11ed-826e-acde48001122.xml\n",
      "Image:/Users/Adnan/Desktop/TFODCourse/Tensorflow/workspace/images/collectedimages/mask/openCV_eb33d3b0-1d32-11ed-826e-acde48001122.jpg -> Annotation:/Users/Adnan/Desktop/TFODCourse/Tensorflow/workspace/images/collectedimages/mask/openCV_eb33d3b0-1d32-11ed-826e-acde48001122.xml\n",
      "Image:/Users/Adnan/Desktop/TFODCourse/Tensorflow/workspace/images/collectedimages/mask/openCV_eb70dd5a-1d32-11ed-826e-acde48001122.jpg -> Annotation:/Users/Adnan/Desktop/TFODCourse/Tensorflow/workspace/images/collectedimages/mask/openCV_eb70dd5a-1d32-11ed-826e-acde48001122.xml\n",
      "Image:/Users/Adnan/Desktop/TFODCourse/Tensorflow/workspace/images/collectedimages/mask/openCV_eb517000-1d32-11ed-826e-acde48001122.jpg -> Annotation:/Users/Adnan/Desktop/TFODCourse/Tensorflow/workspace/images/collectedimages/mask/openCV_eb517000-1d32-11ed-826e-acde48001122.xml\n",
      "Image:/Users/Adnan/Desktop/TFODCourse/Tensorflow/workspace/images/collectedimages/mask/openCV_eba31b4e-1d32-11ed-826e-acde48001122.jpg -> Annotation:/Users/Adnan/Desktop/TFODCourse/Tensorflow/workspace/images/collectedimages/mask/openCV_eba31b4e-1d32-11ed-826e-acde48001122.xml\n",
      "Image:/Users/Adnan/Desktop/TFODCourse/Tensorflow/workspace/images/collectedimages/mask/openCV_ebbc6630-1d32-11ed-826e-acde48001122.jpg -> Annotation:/Users/Adnan/Desktop/TFODCourse/Tensorflow/workspace/images/collectedimages/mask/openCV_ebbc6630-1d32-11ed-826e-acde48001122.xml\n",
      "Image:/Users/Adnan/Desktop/TFODCourse/Tensorflow/workspace/images/collectedimages/mask/openCV_ebd15f2c-1d32-11ed-826e-acde48001122.jpg -> Annotation:/Users/Adnan/Desktop/TFODCourse/Tensorflow/workspace/images/collectedimages/mask/openCV_ebd15f2c-1d32-11ed-826e-acde48001122.xml\n",
      "Image:/Users/Adnan/Desktop/TFODCourse/Tensorflow/workspace/images/collectedimages/mask/openCV_ebe9640a-1d32-11ed-826e-acde48001122.jpg -> Annotation:/Users/Adnan/Desktop/TFODCourse/Tensorflow/workspace/images/collectedimages/mask/openCV_ebe9640a-1d32-11ed-826e-acde48001122.xml\n",
      "Image:/Users/Adnan/Desktop/TFODCourse/Tensorflow/workspace/images/collectedimages/mask/openCV_ec5abce0-1d32-11ed-826e-acde48001122.jpg -> Annotation:/Users/Adnan/Desktop/TFODCourse/Tensorflow/workspace/images/collectedimages/mask/openCV_ec5abce0-1d32-11ed-826e-acde48001122.xml\n",
      "Cancel creation.\n",
      "Image:/Users/Adnan/Desktop/TFODCourse/Tensorflow/workspace/images/collectedimages/mask/openCV_ec3223b6-1d32-11ed-826e-acde48001122.jpg -> Annotation:/Users/Adnan/Desktop/TFODCourse/Tensorflow/workspace/images/collectedimages/mask/openCV_ec3223b6-1d32-11ed-826e-acde48001122.xml\n",
      "Image:/Users/Adnan/Desktop/TFODCourse/Tensorflow/workspace/images/collectedimages/mask/openCV_ec8393ae-1d32-11ed-826e-acde48001122.jpg -> Annotation:/Users/Adnan/Desktop/TFODCourse/Tensorflow/workspace/images/collectedimages/mask/openCV_ec8393ae-1d32-11ed-826e-acde48001122.xml\n",
      "Image:/Users/Adnan/Desktop/TFODCourse/Tensorflow/workspace/images/collectedimages/mask/openCV_ec18738a-1d32-11ed-826e-acde48001122.jpg -> Annotation:/Users/Adnan/Desktop/TFODCourse/Tensorflow/workspace/images/collectedimages/mask/openCV_ec18738a-1d32-11ed-826e-acde48001122.xml\n",
      "Cancel creation.\n",
      "Image:/Users/Adnan/Desktop/TFODCourse/Tensorflow/workspace/images/collectedimages/mask/openCV_ec043294-1d32-11ed-826e-acde48001122.jpg -> Annotation:/Users/Adnan/Desktop/TFODCourse/Tensorflow/workspace/images/collectedimages/mask/openCV_ec043294-1d32-11ed-826e-acde48001122.xml\n",
      "Image:/Users/Adnan/Desktop/TFODCourse/Tensorflow/workspace/images/collectedimages/mask/openCV_ecac2652-1d32-11ed-826e-acde48001122.jpg -> Annotation:/Users/Adnan/Desktop/TFODCourse/Tensorflow/workspace/images/collectedimages/mask/openCV_ecac2652-1d32-11ed-826e-acde48001122.xml\n",
      "Image:/Users/Adnan/Desktop/TFODCourse/Tensorflow/workspace/images/collectedimages/mask/openCV_ecdf3bb4-1d32-11ed-826e-acde48001122.jpg -> Annotation:/Users/Adnan/Desktop/TFODCourse/Tensorflow/workspace/images/collectedimages/mask/openCV_ecdf3bb4-1d32-11ed-826e-acde48001122.xml\n",
      "Image:/Users/Adnan/Desktop/TFODCourse/Tensorflow/workspace/images/collectedimages/mask/openCV_ed5e4e36-1d32-11ed-826e-acde48001122.jpg -> Annotation:/Users/Adnan/Desktop/TFODCourse/Tensorflow/workspace/images/collectedimages/mask/openCV_ed5e4e36-1d32-11ed-826e-acde48001122.xml\n"
     ]
    },
    {
     "name": "stdout",
     "output_type": "stream",
     "text": [
      "Image:/Users/Adnan/Desktop/TFODCourse/Tensorflow/workspace/images/collectedimages/mask/openCV_ed014164-1d32-11ed-826e-acde48001122.jpg -> Annotation:/Users/Adnan/Desktop/TFODCourse/Tensorflow/workspace/images/collectedimages/mask/openCV_ed014164-1d32-11ed-826e-acde48001122.xml\n",
      "Cancel creation.\n",
      "Image:/Users/Adnan/Desktop/TFODCourse/Tensorflow/workspace/images/collectedimages/no-mask/openCV_1fa50b3c-1d33-11ed-826e-acde48001122.jpg -> Annotation:/Users/Adnan/Desktop/TFODCourse/Tensorflow/workspace/images/collectedimages/no-mask/openCV_1fa50b3c-1d33-11ed-826e-acde48001122.xml\n",
      "Image:/Users/Adnan/Desktop/TFODCourse/Tensorflow/workspace/images/collectedimages/no-mask/openCV_1fd7f6b4-1d33-11ed-826e-acde48001122.jpg -> Annotation:/Users/Adnan/Desktop/TFODCourse/Tensorflow/workspace/images/collectedimages/no-mask/openCV_1fd7f6b4-1d33-11ed-826e-acde48001122.xml\n",
      "Image:/Users/Adnan/Desktop/TFODCourse/Tensorflow/workspace/images/collectedimages/no-mask/openCV_20ad21ea-1d33-11ed-826e-acde48001122.jpg -> Annotation:/Users/Adnan/Desktop/TFODCourse/Tensorflow/workspace/images/collectedimages/no-mask/openCV_20ad21ea-1d33-11ed-826e-acde48001122.xml\n",
      "Image:/Users/Adnan/Desktop/TFODCourse/Tensorflow/workspace/images/collectedimages/no-mask/openCV_20c56890-1d33-11ed-826e-acde48001122.jpg -> Annotation:/Users/Adnan/Desktop/TFODCourse/Tensorflow/workspace/images/collectedimages/no-mask/openCV_20c56890-1d33-11ed-826e-acde48001122.xml\n",
      "Image:/Users/Adnan/Desktop/TFODCourse/Tensorflow/workspace/images/collectedimages/no-mask/openCV_20da09b2-1d33-11ed-826e-acde48001122.jpg -> Annotation:/Users/Adnan/Desktop/TFODCourse/Tensorflow/workspace/images/collectedimages/no-mask/openCV_20da09b2-1d33-11ed-826e-acde48001122.xml\n",
      "Image:/Users/Adnan/Desktop/TFODCourse/Tensorflow/workspace/images/collectedimages/no-mask/openCV_20f4223e-1d33-11ed-826e-acde48001122.jpg -> Annotation:/Users/Adnan/Desktop/TFODCourse/Tensorflow/workspace/images/collectedimages/no-mask/openCV_20f4223e-1d33-11ed-826e-acde48001122.xml\n",
      "Cancel creation.\n",
      "Image:/Users/Adnan/Desktop/TFODCourse/Tensorflow/workspace/images/collectedimages/no-mask/openCV_21b086fe-1d33-11ed-826e-acde48001122.jpg -> Annotation:/Users/Adnan/Desktop/TFODCourse/Tensorflow/workspace/images/collectedimages/no-mask/openCV_21b086fe-1d33-11ed-826e-acde48001122.xml\n",
      "Image:/Users/Adnan/Desktop/TFODCourse/Tensorflow/workspace/images/collectedimages/no-mask/openCV_21ca7974-1d33-11ed-826e-acde48001122.jpg -> Annotation:/Users/Adnan/Desktop/TFODCourse/Tensorflow/workspace/images/collectedimages/no-mask/openCV_21ca7974-1d33-11ed-826e-acde48001122.xml\n",
      "Image:/Users/Adnan/Desktop/TFODCourse/Tensorflow/workspace/images/collectedimages/no-mask/openCV_21de5c00-1d33-11ed-826e-acde48001122.jpg -> Annotation:/Users/Adnan/Desktop/TFODCourse/Tensorflow/workspace/images/collectedimages/no-mask/openCV_21de5c00-1d33-11ed-826e-acde48001122.xml\n",
      "Image:/Users/Adnan/Desktop/TFODCourse/Tensorflow/workspace/images/collectedimages/no-mask/openCV_21f7215e-1d33-11ed-826e-acde48001122.jpg -> Annotation:/Users/Adnan/Desktop/TFODCourse/Tensorflow/workspace/images/collectedimages/no-mask/openCV_21f7215e-1d33-11ed-826e-acde48001122.xml\n",
      "Image:/Users/Adnan/Desktop/TFODCourse/Tensorflow/workspace/images/collectedimages/no-mask/openCV_22b915e8-1d33-11ed-826e-acde48001122.jpg -> Annotation:/Users/Adnan/Desktop/TFODCourse/Tensorflow/workspace/images/collectedimages/no-mask/openCV_22b915e8-1d33-11ed-826e-acde48001122.xml\n",
      "Image:/Users/Adnan/Desktop/TFODCourse/Tensorflow/workspace/images/collectedimages/no-mask/openCV_22d79158-1d33-11ed-826e-acde48001122.jpg -> Annotation:/Users/Adnan/Desktop/TFODCourse/Tensorflow/workspace/images/collectedimages/no-mask/openCV_22d79158-1d33-11ed-826e-acde48001122.xml\n",
      "Image:/Users/Adnan/Desktop/TFODCourse/Tensorflow/workspace/images/collectedimages/no-mask/openCV_22ec25b4-1d33-11ed-826e-acde48001122.jpg -> Annotation:/Users/Adnan/Desktop/TFODCourse/Tensorflow/workspace/images/collectedimages/no-mask/openCV_22ec25b4-1d33-11ed-826e-acde48001122.xml\n",
      "Image:/Users/Adnan/Desktop/TFODCourse/Tensorflow/workspace/images/collectedimages/no-mask/openCV_200fb5e0-1d33-11ed-826e-acde48001122.jpg -> Annotation:/Users/Adnan/Desktop/TFODCourse/Tensorflow/workspace/images/collectedimages/no-mask/openCV_200fb5e0-1d33-11ed-826e-acde48001122.xml\n",
      "Image:/Users/Adnan/Desktop/TFODCourse/Tensorflow/workspace/images/collectedimages/no-mask/openCV_205be8f2-1d33-11ed-826e-acde48001122.jpg -> Annotation:/Users/Adnan/Desktop/TFODCourse/Tensorflow/workspace/images/collectedimages/no-mask/openCV_205be8f2-1d33-11ed-826e-acde48001122.xml\n",
      "Image:/Users/Adnan/Desktop/TFODCourse/Tensorflow/workspace/images/collectedimages/no-mask/openCV_210da0c4-1d33-11ed-826e-acde48001122.jpg -> Annotation:/Users/Adnan/Desktop/TFODCourse/Tensorflow/workspace/images/collectedimages/no-mask/openCV_210da0c4-1d33-11ed-826e-acde48001122.xml\n",
      "Cancel creation.\n",
      "Image:/Users/Adnan/Desktop/TFODCourse/Tensorflow/workspace/images/collectedimages/no-mask/openCV_215e7314-1d33-11ed-826e-acde48001122.jpg -> Annotation:/Users/Adnan/Desktop/TFODCourse/Tensorflow/workspace/images/collectedimages/no-mask/openCV_215e7314-1d33-11ed-826e-acde48001122.xml\n",
      "Image:/Users/Adnan/Desktop/TFODCourse/Tensorflow/workspace/images/collectedimages/no-mask/openCV_221b8ae4-1d33-11ed-826e-acde48001122.jpg -> Annotation:/Users/Adnan/Desktop/TFODCourse/Tensorflow/workspace/images/collectedimages/no-mask/openCV_221b8ae4-1d33-11ed-826e-acde48001122.xml\n",
      "Image:/Users/Adnan/Desktop/TFODCourse/Tensorflow/workspace/images/collectedimages/no-mask/openCV_229f072a-1d33-11ed-826e-acde48001122.jpg -> Annotation:/Users/Adnan/Desktop/TFODCourse/Tensorflow/workspace/images/collectedimages/no-mask/openCV_229f072a-1d33-11ed-826e-acde48001122.xml\n",
      "Image:/Users/Adnan/Desktop/TFODCourse/Tensorflow/workspace/images/collectedimages/no-mask/openCV_2126fc72-1d33-11ed-826e-acde48001122.jpg -> Annotation:/Users/Adnan/Desktop/TFODCourse/Tensorflow/workspace/images/collectedimages/no-mask/openCV_2126fc72-1d33-11ed-826e-acde48001122.xml\n",
      "Cancel creation.\n",
      "Image:/Users/Adnan/Desktop/TFODCourse/Tensorflow/workspace/images/collectedimages/no-mask/openCV_2178abb2-1d33-11ed-826e-acde48001122.jpg -> Annotation:/Users/Adnan/Desktop/TFODCourse/Tensorflow/workspace/images/collectedimages/no-mask/openCV_2178abb2-1d33-11ed-826e-acde48001122.xml\n",
      "Image:/Users/Adnan/Desktop/TFODCourse/Tensorflow/workspace/images/collectedimages/no-mask/openCV_2262f1fe-1d33-11ed-826e-acde48001122.jpg -> Annotation:/Users/Adnan/Desktop/TFODCourse/Tensorflow/workspace/images/collectedimages/no-mask/openCV_2262f1fe-1d33-11ed-826e-acde48001122.xml\n",
      "Image:/Users/Adnan/Desktop/TFODCourse/Tensorflow/workspace/images/collectedimages/no-mask/openCV_22492e04-1d33-11ed-826e-acde48001122.jpg -> Annotation:/Users/Adnan/Desktop/TFODCourse/Tensorflow/workspace/images/collectedimages/no-mask/openCV_22492e04-1d33-11ed-826e-acde48001122.xml\n",
      "Image:/Users/Adnan/Desktop/TFODCourse/Tensorflow/workspace/images/collectedimages/no-mask/openCV_214056ae-1d33-11ed-826e-acde48001122.jpg -> Annotation:/Users/Adnan/Desktop/TFODCourse/Tensorflow/workspace/images/collectedimages/no-mask/openCV_214056ae-1d33-11ed-826e-acde48001122.xml\n",
      "Image:/Users/Adnan/Desktop/TFODCourse/Tensorflow/workspace/images/collectedimages/no-mask/openCV_219609f0-1d33-11ed-826e-acde48001122.jpg -> Annotation:/Users/Adnan/Desktop/TFODCourse/Tensorflow/workspace/images/collectedimages/no-mask/openCV_219609f0-1d33-11ed-826e-acde48001122.xml\n",
      "Cancel creation.\n",
      "Image:/Users/Adnan/Desktop/TFODCourse/Tensorflow/workspace/images/collectedimages/no-mask/openCV_2038860a-1d33-11ed-826e-acde48001122.jpg -> Annotation:/Users/Adnan/Desktop/TFODCourse/Tensorflow/workspace/images/collectedimages/no-mask/openCV_2038860a-1d33-11ed-826e-acde48001122.xml\n",
      "Image:/Users/Adnan/Desktop/TFODCourse/Tensorflow/workspace/images/collectedimages/no-mask/openCV_2075739e-1d33-11ed-826e-acde48001122.jpg -> Annotation:/Users/Adnan/Desktop/TFODCourse/Tensorflow/workspace/images/collectedimages/no-mask/openCV_2075739e-1d33-11ed-826e-acde48001122.xml\n",
      "Image:/Users/Adnan/Desktop/TFODCourse/Tensorflow/workspace/images/collectedimages/no-mask/openCV_2230294a-1d33-11ed-826e-acde48001122.jpg -> Annotation:/Users/Adnan/Desktop/TFODCourse/Tensorflow/workspace/images/collectedimages/no-mask/openCV_2230294a-1d33-11ed-826e-acde48001122.xml\n"
     ]
    },
    {
     "name": "stdout",
     "output_type": "stream",
     "text": [
      "Image:/Users/Adnan/Desktop/TFODCourse/Tensorflow/workspace/images/collectedimages/no-mask/openCV_2305548a-1d33-11ed-826e-acde48001122.jpg -> Annotation:/Users/Adnan/Desktop/TFODCourse/Tensorflow/workspace/images/collectedimages/no-mask/openCV_2305548a-1d33-11ed-826e-acde48001122.xml\n",
      "Image:/Users/Adnan/Desktop/TFODCourse/Tensorflow/workspace/images/collectedimages/no-mask/openCV_20942456-1d33-11ed-826e-acde48001122.jpg -> Annotation:/Users/Adnan/Desktop/TFODCourse/Tensorflow/workspace/images/collectedimages/no-mask/openCV_20942456-1d33-11ed-826e-acde48001122.xml\n"
     ]
    }
   ],
   "source": [
    "!cd {LABELIMG_PATH} && python labelImg.py"
   ]
  },
  {
   "cell_type": "markdown",
   "metadata": {},
   "source": [
    "# 6. Move them into a Training and Testing Partition"
   ]
  },
  {
   "cell_type": "markdown",
   "metadata": {},
   "source": [
    "# OPTIONAL - 7. Compress them for Colab Training"
   ]
  },
  {
   "cell_type": "code",
   "execution_count": 3,
   "metadata": {},
   "outputs": [],
   "source": [
    "TRAIN_PATH = os.path.join('Tensorflow', 'workspace', 'images', 'train')\n",
    "TEST_PATH = os.path.join('Tensorflow', 'workspace', 'images', 'test')\n",
    "ARCHIVE_PATH = os.path.join('Tensorflow', 'workspace', 'images', 'archive.tar.gz')"
   ]
  },
  {
   "cell_type": "code",
   "execution_count": 4,
   "metadata": {},
   "outputs": [],
   "source": [
    "!tar -czf {ARCHIVE_PATH} {TRAIN_PATH} {TEST_PATH}"
   ]
  },
  {
   "cell_type": "code",
   "execution_count": null,
   "metadata": {},
   "outputs": [],
   "source": []
  }
 ],
 "metadata": {
  "kernelspec": {
   "display_name": "tfodj",
   "language": "python",
   "name": "tfodj"
  },
  "language_info": {
   "codemirror_mode": {
    "name": "ipython",
    "version": 3
   },
   "file_extension": ".py",
   "mimetype": "text/x-python",
   "name": "python",
   "nbconvert_exporter": "python",
   "pygments_lexer": "ipython3",
   "version": "3.8.9"
  }
 },
 "nbformat": 4,
 "nbformat_minor": 2
}
